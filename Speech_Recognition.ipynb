{
 "cells": [
  {
   "cell_type": "code",
   "execution_count": 1,
   "metadata": {
    "colab": {
     "base_uri": "https://localhost:8080/"
    },
    "id": "pOyL140v7PdZ",
    "outputId": "a417dd2a-35df-4663-98bb-d32f37e1d293"
   },
   "outputs": [
    {
     "name": "stdout",
     "output_type": "stream",
     "text": [
      "Looking in links: https://download.pytorch.org/whl/torch_stable.html\n",
      "Requirement already satisfied: torch==1.7.1+cu101 in /usr/local/lib/python3.6/dist-packages (1.7.1+cu101)\n",
      "Requirement already satisfied: torchvision==0.8.2+cu101 in /usr/local/lib/python3.6/dist-packages (0.8.2+cu101)\n",
      "Requirement already satisfied: torchaudio===0.7.2 in /usr/local/lib/python3.6/dist-packages (0.7.2)\n",
      "Requirement already satisfied: numpy in /usr/local/lib/python3.6/dist-packages (from torch==1.7.1+cu101) (1.19.5)\n",
      "Requirement already satisfied: dataclasses; python_version < \"3.7\" in /usr/local/lib/python3.6/dist-packages (from torch==1.7.1+cu101) (0.8)\n",
      "Requirement already satisfied: typing-extensions in /usr/local/lib/python3.6/dist-packages (from torch==1.7.1+cu101) (3.7.4.3)\n",
      "Requirement already satisfied: pillow>=4.1.1 in /usr/local/lib/python3.6/dist-packages (from torchvision==0.8.2+cu101) (7.0.0)\n"
     ]
    }
   ],
   "source": [
    "pip install torch==1.7.1+cu101 torchvision==0.8.2+cu101 torchaudio===0.7.2 -f https://download.pytorch.org/whl/torch_stable.html"
   ]
  },
  {
   "cell_type": "code",
   "execution_count": 2,
   "metadata": {
    "colab": {
     "base_uri": "https://localhost:8080/"
    },
    "id": "_l9kjtbI8puM",
    "outputId": "73d049f7-b9dd-4c55-8445-f74b9ed63601"
   },
   "outputs": [
    {
     "name": "stderr",
     "output_type": "stream",
     "text": [
      "/usr/local/lib/python3.6/dist-packages/torchaudio/backend/utils.py:54: UserWarning: \"sox\" backend is being deprecated. The default backend will be changed to \"sox_io\" backend in 0.8.0 and \"sox\" backend will be removed in 0.9.0. Please migrate to \"sox_io\" backend. Please refer to https://github.com/pytorch/audio/issues/903 for the detail.\n",
      "  '\"sox\" backend is being deprecated. '\n"
     ]
    }
   ],
   "source": [
    "import os\n",
    "import torch\n",
    "import torch.nn as nn\n",
    "from torch.nn.utils.rnn import pad_sequence\n",
    "import torch.utils.data as data\n",
    "import torch.optim as optim\n",
    "import torch.nn.functional as F\n",
    "import torchaudio\n",
    "import numpy as np\n",
    "from tqdm import tqdm\n",
    "import time\n",
    "import matplotlib.pyplot as plt\n",
    "\n",
    "import warnings\n",
    "warnings.filterwarnings(\"ignore\")"
   ]
  },
  {
   "cell_type": "markdown",
   "metadata": {
    "id": "YXBVKrYu7Pdg"
   },
   "source": [
    "### Transforming text to list of integers, and a list of integers to text\n",
    "0: \" ' \" <br>\n",
    "1: \"&nbsp; &nbsp; &nbsp;\" <br>\n",
    "2: \" a \" <br>\n",
    "3: \" b \" <br>\n",
    "... <br>\n",
    "26: \" y \" <br>\n",
    "27: \" z \" <br>"
   ]
  },
  {
   "cell_type": "code",
   "execution_count": 3,
   "metadata": {
    "id": "zgdPGwa17Pdh"
   },
   "outputs": [],
   "source": [
    "class TextTransform:\n",
    "\n",
    "    \"\"\"\n",
    "    Maps characters to integers and vice versa.\n",
    "    \"\"\"\n",
    "\n",
    "    def __init__(self):\n",
    "        \n",
    "        self.index_map = {0:\"'\", 1:\" \"}\n",
    "        for ascii_code in range(97, 123):\n",
    "            self.index_map[ascii_code-95] = chr(ascii_code)\n",
    "            \n",
    "        self.char_map = {value:key for key, value in self.index_map.items()}\n",
    "\n",
    "    def text_to_int(self, text):\n",
    "\n",
    "        \"\"\"\n",
    "        Use a character map and convert text to an integer sequence.\n",
    "        \"\"\"\n",
    "\n",
    "        return [self.char_map[c] for c in text]\n",
    "\n",
    "    def int_to_text(self, labels):\n",
    "\n",
    "        \"\"\"\n",
    "        Use a label map and convert integer labels to a text sequence.\n",
    "        \"\"\"\n",
    "\n",
    "        return \"\".join([self.index_map[i] for i in labels])"
   ]
  },
  {
   "cell_type": "markdown",
   "metadata": {
    "id": "x1JuTXow7Pdi"
   },
   "source": [
    "### Data preprocessing pipeline\n",
    "Converting signal to corresponding Mel Spectrogram, and labels to list of integers. Data augmentation techniques are added for the signal in training set, using frequency masking and time masking. \n",
    "\n",
    "Frequency masking and time masking are methods to augment speech data. They work by cuttingout random blocks of consecutive time and frequency dimension from the spectogram, as suggested \n",
    "in the paper [SpecAugment: A Simple Data Augmentation Method for Automatic Speech Recognition](https://arxiv.org/pdf/1904.08779.pdf)."
   ]
  },
  {
   "cell_type": "code",
   "execution_count": 4,
   "metadata": {
    "id": "D-7lwDdV7Pdi"
   },
   "outputs": [],
   "source": [
    "\"\"\"\n",
    "Object to transform audio for training.\n",
    "\"\"\"\n",
    "\n",
    "training_audio_transform = nn.Sequential(torchaudio.transforms.MelSpectrogram(sample_rate = 16000, n_mels = 128),\n",
    "                                         torchaudio.transforms.FrequencyMasking(freq_mask_param = 30),\n",
    "                                         torchaudio.transforms.TimeMasking(time_mask_param = 100))\n",
    "\n",
    "\"\"\"\n",
    "Object to transform audio for validation. \n",
    "\"\"\"\n",
    "\n",
    "validation_audio_transform = torchaudio.transforms.MelSpectrogram()\n",
    "\n",
    "\"\"\"\n",
    "Object for text transformation using the class we created above.\n",
    "\"\"\"\n",
    "\n",
    "text_transform = TextTransform()"
   ]
  },
  {
   "cell_type": "markdown",
   "metadata": {
    "id": "oSDTadh47Pdi"
   },
   "source": [
    "### Collate function for the data loaders\n",
    "\n",
    "Signal is first converted to its Mel spectrogram. The spectrogram is returned in the shape (channel, n_mels, time). We'll need to pad the time dimension to make all the tensors of equal length. We use torch.nn.utils.rnn.pad_sequence function for it. However, for that we need the first dimension of each tensor to be that of time. To get the tensors to be in that shape, we squeeze the channel dimension of the spectrogram, which is 1, and take the transpose between n_mels and time. Now, we can feed the list of tensors in the pad_sequence function. A tensor of shape (batch, time, n_mels) is returned. We unsqueeze the channel dimension, because we need to feed this tensor to a CNN, getting a tensor of shape (batch, channels, time, n_mels) and then we take a transpose between time and n_mels dimensions.\n",
    "\n",
    "(channel, n_mels, time) $\\Rightarrow$ (n_mels, time) $\\Rightarrow$ (time, n_mels) $\\Rightarrow$ (batch, time, n_mels) $\\Rightarrow$ (batch, channel, time, n_mels) $\\Rightarrow$ (batch, channel, n_mels, time)\n",
    "\n",
    "Labels are converted to list of integers using the TextTransform class. The labels are padded to convert the batch into a tensor as well."
   ]
  },
  {
   "cell_type": "code",
   "execution_count": 5,
   "metadata": {
    "id": "T7FYvfzl7Pdj"
   },
   "outputs": [],
   "source": [
    "def data_processing(data, data_type = \"train\"):\n",
    "    \n",
    "    \"\"\"\n",
    "    Collate function for the data loaders. Produces the Mel spectrograms of the signal.\n",
    "    \"\"\"\n",
    "\n",
    "    specs, labels, input_lengths, label_lengths = [], [], [], []\n",
    "    \n",
    "    for signal, _, text, _, _, _ in data:\n",
    "        \n",
    "        if data_type == \"train\":\n",
    "            ms = training_audio_transform(signal).squeeze(0).transpose(0, 1) \n",
    "        elif data_type == \"validation\":\n",
    "            ms = validation_audio_transform(signal).squeeze(0).transpose(0, 1)\n",
    "        else:\n",
    "            raise Exception(\"data_type parameter should be 'train' or 'validation'\")\n",
    "            \n",
    "        specs.append(ms)\n",
    "        input_lengths.append(ms.shape[0] // 2)\n",
    "        \n",
    "        label = torch.Tensor(text_transform.text_to_int(text.lower()))\n",
    "        labels.append(label)\n",
    "        label_lengths.append(len(label))\n",
    "\n",
    "    specs = pad_sequence(specs, batch_first = True).unsqueeze(1).transpose(2, 3)\n",
    "    labels = pad_sequence(labels, batch_first = True)\n",
    "\n",
    "    return specs, labels, input_lengths, label_lengths"
   ]
  },
  {
   "cell_type": "markdown",
   "metadata": {
    "id": "1sHFpvEa7Pdj"
   },
   "source": [
    "### Model architecture\n",
    "\n",
    "The first layer in the model is that of a CNN with kernel size 3, and output number of channels equal to n_channels.\n",
    "\n",
    "A unit of RCNN layers follows the CNN layer. This unit is inspired by the paper [Identity Mappings in Deep Residual Networks](https://arxiv.org/pdf/1603.05027.pdf). The paper suggests to \"view the activation functions (ReLU and BN) as 'pre-activation' of the weight layers, in contrast to conventional wisdom of 'post-activation'.\" In this model, however, we experiment with layer normalization instead of batch normalization, and with GELU (Gaussian Error Linear Units) instead of ReLU. The paper [Gaussian Error Linear Units (GELUs)](https://arxiv.org/pdf/1606.08415.pdf) reports better performance of the GELU linearity when experimented against ReLU.\n",
    "\n",
    "The output of the RCNN is then fed into a fully connected layer, with output size equal to rnn_dim.\n",
    "\n",
    "Then follows the bidirectional GRU unit. Since we need real time transcribing, we use a GRU, instead of an LSTM, because of the lower number of parameters needed to be trained in a GRU. RNNs are known for their ability to capture temporal patterns. The bidirectional nature of the layers ensures that the learning is dependent upon, both, the past and the future elements of the sequence.\n",
    "\n",
    "Finally, we have the classifier unit, which essentially comprises of two fully connected layers, along with dropout and gelu activation."
   ]
  },
  {
   "cell_type": "code",
   "execution_count": 6,
   "metadata": {
    "id": "1CZFeY-G7Pdk"
   },
   "outputs": [],
   "source": [
    "class CNNLayerNorm(nn.Module):\n",
    "\n",
    "    \"\"\"\n",
    "    Layer normalization built for CNNs input.\n",
    "    \n",
    "    We need a custom class because the normalization needs to be carried out over the second last \n",
    "    dimension.\n",
    "    \"\"\"\n",
    "\n",
    "    def __init__(self, n_features):\n",
    "\n",
    "        super(CNNLayerNorm, self).__init__()\n",
    "        \n",
    "        self.layer_norm = nn.LayerNorm(normalized_shape = n_features)\n",
    "\n",
    "    def forward(self, x):\n",
    "        \n",
    "        \"\"\"\n",
    "        When passed into CNN, the input is of shape (batch_size, number_of channels, features, time).\n",
    "        \n",
    "        We want to normalize each feature, and so, we take a transpose, followed by normalization, \n",
    "        followed by another transpose.\n",
    "        \"\"\"\n",
    "        \n",
    "        x = x.transpose(2, 3).contiguous() \n",
    "        x = self.layer_norm(x)\n",
    "        x = x.transpose(2, 3).contiguous()\n",
    "        \n",
    "        return x\n",
    "\n",
    "\n",
    "class ResidualCNN(nn.Module):\n",
    "    \n",
    "    \"\"\"\n",
    "    Residual CNN unit, as inspired by the paper 'Identity Mappings in Deep Residual Networks'.\n",
    "    \"\"\"\n",
    "    \n",
    "    def __init__(self, in_channels, out_channels, kernel_size, stride, dropout_rate, n_features):\n",
    "        \n",
    "        super(ResidualCNN, self).__init__()\n",
    "        \n",
    "        self.cnn1 = nn.Conv2d(in_channels = in_channels, \n",
    "                              out_channels = out_channels, \n",
    "                              kernel_size = kernel_size, \n",
    "                              stride = stride, \n",
    "                              padding = kernel_size // 2)\n",
    "        \n",
    "        self.cnn2 = nn.Conv2d(in_channels = out_channels, \n",
    "                              out_channels = out_channels, \n",
    "                              kernel_size = kernel_size, \n",
    "                              stride = stride, \n",
    "                              padding = kernel_size // 2)\n",
    "        \n",
    "        self.layer_norm = CNNLayerNorm(n_features = n_features)\n",
    "\n",
    "        self.gelu = nn.GELU()\n",
    "        \n",
    "        self.dropout = nn.Dropout(p = dropout_rate)\n",
    "\n",
    "    def forward(self, x):\n",
    "        \n",
    "        residual = x  \n",
    "        x = self.dropout(self.gelu(self.layer_norm(x)))\n",
    "        x = self.cnn1(x)\n",
    "        x = self.dropout(self.gelu(self.layer_norm(x)))\n",
    "        x = self.cnn2(x)\n",
    "        x += residual\n",
    "        \n",
    "        return x \n",
    "\n",
    "\n",
    "class BidirectionalGRU(nn.Module):\n",
    "    \n",
    "    \"\"\"\n",
    "    The Bidirectional Gated Recurrent Unit.\n",
    "    \"\"\"\n",
    "\n",
    "    def __init__(self, rnn_dim, hidden_size, dropout_rate, batch_first):\n",
    "        \n",
    "        super(BidirectionalGRU, self).__init__()\n",
    "        \n",
    "        self.BiGRU = nn.GRU(input_size = rnn_dim, \n",
    "                            hidden_size = hidden_size, \n",
    "                            batch_first = batch_first, \n",
    "                            bidirectional = True)\n",
    "        \n",
    "        self.layer_norm = nn.LayerNorm(rnn_dim)\n",
    "\n",
    "        self.gelu = nn.GELU()\n",
    "        \n",
    "        self.dropout = nn.Dropout(dropout_rate)\n",
    "\n",
    "    def forward(self, x):\n",
    "        \n",
    "        x = self.gelu(self.layer_norm(x))\n",
    "        x, _ = self.BiGRU(x)\n",
    "        x = self.dropout(x)\n",
    "        \n",
    "        return x\n",
    "\n",
    "\n",
    "class SpeechRecognitionModel(nn.Module):\n",
    "    \n",
    "    def __init__(self, n_cnn_layers, n_rnn_layers, rnn_dim, num_classes, n_features, n_channels = 32, stride = 2, dropout_rate = 0.1):\n",
    "        \n",
    "        super(SpeechRecognitionModel, self).__init__()\n",
    "        \n",
    "        n_features = n_features // 2\n",
    "        \n",
    "        self.cnn = nn.Conv2d(in_channels = 1, \n",
    "                             out_channels = n_channels, \n",
    "                             kernel_size = 3, \n",
    "                             stride = stride, \n",
    "                             padding = 1)  \n",
    "\n",
    "        self.rcnn_layers = nn.Sequential(*[ResidualCNN(in_channels = n_channels, \n",
    "                                                       out_channels = n_channels, \n",
    "                                                       kernel_size = 3, \n",
    "                                                       stride = 1, \n",
    "                                                       dropout_rate = dropout_rate, \n",
    "                                                       n_features = n_features) \n",
    "                                           for _ in range(n_cnn_layers)])\n",
    "        \n",
    "        self.fully_connected = nn.Linear(n_channels*n_features, rnn_dim) \n",
    "        \n",
    "        self.brnn_layers = nn.Sequential(*[BidirectionalGRU(rnn_dim = (rnn_dim if i == 0 else rnn_dim*2),\n",
    "                                                            hidden_size = rnn_dim, \n",
    "                                                            dropout_rate = dropout_rate, \n",
    "                                                            batch_first = (i == 0))\n",
    "                                           for i in range(n_rnn_layers)])\n",
    "        \n",
    "        self.classifier = nn.Sequential(nn.Linear(rnn_dim*2, rnn_dim),\n",
    "                                        nn.GELU(),\n",
    "                                        nn.Dropout(dropout_rate),\n",
    "                                        nn.Linear(rnn_dim, num_classes))\n",
    "\n",
    "    def forward(self, x):\n",
    "        \n",
    "        x = self.cnn(x)                                        # (batch, feature, time)\n",
    "        x = self.rcnn_layers(x)                                # (batch, channels, feature, time)\n",
    "        sizes = x.size()\n",
    "        x = x.view(sizes[0], sizes[1]*sizes[2], sizes[3])      # (batch, channels * feature, time)\n",
    "        x = x.transpose(1, 2)                                  # (batch, time, channels * feature)\n",
    "        x = self.fully_connected(x)                            # (batch, time, rnn_dim)\n",
    "        x = self.brnn_layers(x)                                # (batch, time, 2 * rnn_dim)\n",
    "        x = self.classifier(x)                                 # (batch, time, num_classes)\n",
    "        \n",
    "        return x"
   ]
  },
  {
   "cell_type": "markdown",
   "metadata": {
    "id": "mGNhgc8H7Pdm"
   },
   "source": [
    "### Defining metrics for comparing the targets against the predictions\n",
    "\n",
    "The Levenshtein distance is a string metric for measuring the difference between two sequences. Informally, the Levenshtein distance between two words is the minimum number of single-character edits (insertions, deletions or substitutions) required to change one word into the other ([source](https://en.wikipedia.org/wiki/Levenshtein_distance#:~:text=Informally%2C%20the%20Levenshtein%20distance%20between,considered%20this%20distance%20in%201965.)).\n",
    "\n",
    "WER compares reference text and hypothesis text on word level by taking the ratio of the Levenshtein distance between the reference and the hypothesis at word level, and the number of words in the reference.\n",
    "\n",
    "CER compares reference text and hypothesis text on character level by taking the ratio of the Levenshtein distance between the reference and the hypothesis at character level, and the number of characters in the reference."
   ]
  },
  {
   "cell_type": "code",
   "execution_count": 7,
   "metadata": {
    "id": "iK5FCbET7Pdm"
   },
   "outputs": [],
   "source": [
    "def levenshtein_distance(reference, hypothesis):\n",
    "    \n",
    "    \"\"\"\n",
    "    Method for calculating Levenshtein distance between a pair of lists of elements\n",
    "    \"\"\"\n",
    "\n",
    "    if len(reference) > len(hypothesis):\n",
    "        reference, hypothesis = hypothesis, reference\n",
    "\n",
    "    edits = [[None]*(len(reference)+1), list(range(len(reference)+1))]\n",
    "\n",
    "    for i in range(1, len(hypothesis)+1):\n",
    "        edits = [edits[1], [0]*(len(reference)+1)]\n",
    "        edits[1][0] = i\n",
    "        for j in range(1, len(reference)+1):\n",
    "            if reference[j-1] != hypothesis[i-1]:\n",
    "                edits[1][j] = 1 + min(edits[0][j], edits[0][j-1], edits[1][j-1])\n",
    "            else:\n",
    "                edits[1][j] = edits[0][j-1]\n",
    "    \n",
    "    return edits[1][-1]\n",
    "\n",
    "\n",
    "def word_errors(reference, hypothesis, ignore_case = False, delimiter = ' '):\n",
    "\n",
    "    \"\"\"\n",
    "    Compute the Levenshtein distance between reference sequence and hypothesis sequence on word level.\n",
    "    \"\"\"\n",
    "\n",
    "    if ignore_case:\n",
    "        reference, hypothesis = reference.lower(), hypothesis.lower()\n",
    "\n",
    "    reference_words, hypothesis_words = reference.split(delimiter), hypothesis.split(delimiter)\n",
    "    lev_distance = levenshtein_distance(reference_words, hypothesis_words)\n",
    "\n",
    "    return lev_distance, len(reference_words)\n",
    "\n",
    "\n",
    "def character_errors(reference, hypothesis, ignore_case = False, remove_space = False):\n",
    "\n",
    "    \"\"\"\n",
    "    Compute the Levenshtein distance between reference sequence and hypothesis sequence on character level.\n",
    "    \"\"\"\n",
    "\n",
    "    if ignore_case:\n",
    "        reference, hypothesis = reference.lower(), hypothesis.lower()\n",
    "    if remove_space:\n",
    "        reference, hypothesis = reference.replace(\" \", \"\"), hypothesis.replace(\" \", \"\")\n",
    "\n",
    "    lev_distance = levenshtein_distance(reference, hypothesis)\n",
    "\n",
    "    return lev_distance, len(reference)\n",
    "\n",
    "\n",
    "def word_error_rate(reference, hypothesis, ignore_case = False, delimiter = ' '):\n",
    "\n",
    "    \"\"\"\n",
    "    Calculate word error rate (WER).\n",
    "    \"\"\"\n",
    "\n",
    "    lev_distance, reference_length = word_errors(reference, hypothesis, ignore_case, delimiter)\n",
    "    if reference_length == 0:\n",
    "        raise ValueError(\"Reference should not be an empty string. Hypothesis was \" + hypothesis)\n",
    "\n",
    "    return lev_distance / reference_length\n",
    "\n",
    "\n",
    "def character_error_rate(reference, hypothesis, ignore_case = False, remove_space = False):\n",
    "\n",
    "    \"\"\"\n",
    "    Calculate charactor error rate (CER).\n",
    "    \"\"\"\n",
    "\n",
    "    lev_distance, reference_length = character_errors(reference, hypothesis, ignore_case, remove_space)\n",
    "    if reference_length == 0:\n",
    "        raise ValueError(\"Reference should not be an empty string. Hypothesis was \" + hypothesis)\n",
    "    \n",
    "    return lev_distance / reference_length"
   ]
  },
  {
   "cell_type": "markdown",
   "metadata": {
    "id": "IJ_dWi-77Pdn"
   },
   "source": [
    "### Function for decoding the output of the model\n",
    "The output of the model is in the form of a tensor of integers. This needs to be decoded into text, keeping in mind that repeats need to be ignored. The true labels are sliced to their original length."
   ]
  },
  {
   "cell_type": "code",
   "execution_count": 8,
   "metadata": {
    "id": "NdebK1fY7Pdn"
   },
   "outputs": [],
   "source": [
    "def decoder(output, labels, label_lengths, blank_label = 28, collapse_repeated = True):\n",
    "\n",
    "    # Calculate the character (class) with maximum probabiltiy, (batch, time, n_classes) -> (batch, time)\n",
    "    arg_maxs = torch.argmax(output, dim = 2)\n",
    "    \n",
    "    # Lists of decoded text and target text for all points in a batch\n",
    "    decoded_targets, decoded_predictions = [], []\n",
    "    \n",
    "    for label, label_length, args in zip(labels, label_lengths, arg_maxs):\n",
    "        \n",
    "        # Target text sliced to its original length (we padded each label to maximum length)\n",
    "        decoded_targets.append(text_transform.int_to_text(label[:label_length].tolist()))\n",
    "        \n",
    "        # List of integers to be decoded, result of using arg_max\n",
    "        decoded_int_list = []\n",
    "        for j in range(len(args)):\n",
    "            arg_max_0, arg_max_1 = args[j-1] if j != 0 else None, args[j]\n",
    "            if arg_max_1 != blank_label and (not collapse_repeated or j == 0 or arg_max_0 != arg_max_1):\n",
    "                decoded_int_list.append(arg_max_1.item())\n",
    "                \n",
    "        # Convert the list of integers to text, and the add it to the list of decoded text\n",
    "        decoded_prediction = text_transform.int_to_text(decoded_int_list)\n",
    "        decoded_predictions.append(decoded_prediction)\n",
    "  \n",
    "    return decoded_targets, decoded_predictions"
   ]
  },
  {
   "cell_type": "markdown",
   "metadata": {
    "id": "8t3nJT3ym_Yo"
   },
   "source": [
    "### Function for training the model"
   ]
  },
  {
   "cell_type": "code",
   "execution_count": 9,
   "metadata": {
    "id": "zQhCcT9Um96E"
   },
   "outputs": [],
   "source": [
    "def train(model, device, train_loader, criterion, optimizer, scheduler):\n",
    "    \n",
    "    # Put the model in training mode\n",
    "    model.train()\n",
    "\n",
    "    # List of train loss\n",
    "    train_loss = []\n",
    "    \n",
    "    for data in tqdm(train_loader):\n",
    "        \n",
    "        # Load the data, and convert the tensor with the specified device\n",
    "        spectrograms, labels, input_lengths, label_lengths = data \n",
    "        spectrograms, labels = spectrograms.to(device), labels.to(device)\n",
    "\n",
    "        # Forward pass\n",
    "        output = model(spectrograms)                              # (batch, time, num_classes)\n",
    "        output = F.log_softmax(output, dim = 2)\n",
    "        output = output.transpose(0, 1)                           # (time, batch, num_classes)\n",
    "\n",
    "        # Set the gradients to 0\n",
    "        optimizer.zero_grad()\n",
    "        \n",
    "        # Compute the loss, and with it, the gradients\n",
    "        loss = criterion(output, labels, input_lengths, label_lengths)\n",
    "        train_loss.append(loss.item())\n",
    "        loss.backward()\n",
    "        \n",
    "        # Update the parameters\n",
    "        optimizer.step()\n",
    "        scheduler.step()\n",
    "\n",
    "    # Calculate average character error rate and average word error rate\n",
    "    avg_train_loss = torch.mean(torch.tensor(train_loss))\n",
    "\n",
    "    print(\"Training set - Average loss = {:.4f}\".format(avg_train_loss))\n",
    "    time.sleep(2)\n",
    "    return avg_train_loss"
   ]
  },
  {
   "cell_type": "markdown",
   "metadata": {
    "id": "GfbF7j6n7Pdn"
   },
   "source": [
    "### Function for testing the model"
   ]
  },
  {
   "cell_type": "code",
   "execution_count": 10,
   "metadata": {
    "id": "AymycgIt7Pdn"
   },
   "outputs": [],
   "source": [
    "def test(model, device, test_loader, criterion):\n",
    "    \n",
    "    # Put the model in testing mode\n",
    "    model.eval()\n",
    "    \n",
    "    # Initialize lists for test loss, character error rate and word error rate\n",
    "    test_loss, test_cer, test_wer = [], [], []\n",
    "    \n",
    "    # Don't compute gradients\n",
    "    with torch.no_grad():                     \n",
    "        \n",
    "        for data in tqdm(test_loader):\n",
    "            \n",
    "            # Load the data, and convert the tensor with the specified device\n",
    "            spectrograms, labels, input_lengths, label_lengths = data \n",
    "            spectrograms, labels = spectrograms.to(device), labels.to(device)\n",
    "\n",
    "            # Forward pass\n",
    "            output = model(spectrograms)                              # (batch, time, num_classes)\n",
    "            output = F.log_softmax(output, dim = 2)\n",
    "            output = output.transpose(0, 1)                           # (time, batch, num_classes)\n",
    "\n",
    "            # Compute the loss, and add it to the total\n",
    "            loss = criterion(output, labels, input_lengths, label_lengths)\n",
    "            test_loss.append(loss.item())\n",
    "\n",
    "            # Decode targets and predictions\n",
    "            decoded_targets, decoded_predictions = decoder(output.transpose(0, 1), labels, label_lengths)\n",
    "            \n",
    "            # Calculate character error rate and word error rate\n",
    "            test_cer += [character_error_rate(decoded_target, decoded_prediction) for decoded_target, decoded_prediction in zip(decoded_targets, decoded_predictions)] \n",
    "            test_wer += [word_error_rate(decoded_target, decoded_prediction) for decoded_target, decoded_prediction in zip(decoded_targets, decoded_predictions)] \n",
    "\n",
    "    # Calculate average character error rate and average word error rate\n",
    "    avg_test_loss = torch.mean(torch.tensor(test_loss))\n",
    "    avg_test_cer = torch.mean(torch.tensor(test_cer))\n",
    "    avg_test_wer = torch.mean(torch.tensor(test_wer))\n",
    "\n",
    "    print(\"Validation set - Average loss = {:.4f}, Average CER = {:.4f}, Average WER = {:.4f}\".format(avg_test_loss, avg_test_cer, avg_test_wer))\n",
    "    time.sleep(2)\n",
    "    return avg_test_loss, avg_test_cer, avg_test_wer"
   ]
  },
  {
   "cell_type": "markdown",
   "metadata": {
    "id": "wmFa2wbu7Pdo"
   },
   "source": [
    "### Bringing it all together"
   ]
  },
  {
   "cell_type": "code",
   "execution_count": 11,
   "metadata": {
    "id": "rV2PslEK7Pdo"
   },
   "outputs": [],
   "source": [
    "def main(learning_rate = 5e-4, batch_size = 16, epochs = 15, train_url = \"train-clean-100\", test_url = \"test-clean\"):\n",
    "\n",
    "    # Defining hyperparameters\n",
    "    hparams = {\"n_cnn_layers\": 3,\n",
    "               \"n_rnn_layers\": 5,\n",
    "               \"rnn_dim\": 512,\n",
    "               \"num_classes\": 29,\n",
    "               \"n_features\": 128,\n",
    "               \"stride\": 2,\n",
    "               \"dropout_rate\": 0.1,\n",
    "               \"learning_rate\": learning_rate,\n",
    "               \"batch_size\": batch_size,\n",
    "               \"epochs\": epochs}\n",
    "\n",
    "    # If current directory is not data, make one called data\n",
    "    if not os.path.isdir(\"./data\"):\n",
    "        os.makedirs(\"./data\")\n",
    "\n",
    "    # Downloading datasets\n",
    "    print(\"Downloading datasets\")\n",
    "    train_dataset = torchaudio.datasets.LIBRISPEECH(\"./data\", url = train_url, download = True)\n",
    "    test_dataset = torchaudio.datasets.LIBRISPEECH(\"./data\", url = test_url, download = True)\n",
    "    \n",
    "    # kwargs for using GPU\n",
    "    use_cuda = torch.cuda.is_available()\n",
    "    device = torch.device(\"cuda\" if use_cuda else \"cpu\")\n",
    "    print(\"Using GPU\"  if use_cuda else \"GPU not found\")\n",
    "    kwargs = {\"num_workers\": 1, \"pin_memory\": True} if use_cuda else {}\n",
    "    \n",
    "    # Loading train data\n",
    "    print(\"Loading train data\")\n",
    "    train_loader = data.DataLoader(dataset = train_dataset,\n",
    "                                   batch_size = hparams[\"batch_size\"],\n",
    "                                   shuffle = True,\n",
    "                                   collate_fn = lambda x: data_processing(x, \"train\"),\n",
    "                                   **kwargs)\n",
    "    \n",
    "    # Loading test data\n",
    "    print(\"Loading test data\")\n",
    "    test_loader = data.DataLoader(dataset = test_dataset,\n",
    "                                 batch_size = hparams[\"batch_size\"],\n",
    "                                 shuffle = False,\n",
    "                                 collate_fn = lambda x: data_processing(x, \"validation\"),\n",
    "                                 **kwargs)\n",
    "\n",
    "    # Setting up the model\n",
    "    print(\"Setting up the model\")\n",
    "    model = SpeechRecognitionModel(n_cnn_layers = hparams[\"n_cnn_layers\"], \n",
    "                                   n_rnn_layers = hparams[\"n_rnn_layers\"], \n",
    "                                   rnn_dim = hparams[\"rnn_dim\"],\n",
    "                                   num_classes = hparams[\"num_classes\"], \n",
    "                                   n_features = hparams[\"n_features\"], \n",
    "                                   stride = hparams[\"stride\"], \n",
    "                                   dropout_rate = hparams[\"dropout_rate\"]).to(device)\n",
    "\n",
    "    print(\"Total model parameters =\", sum([param.nelement() for param in model.parameters()]))\n",
    "\n",
    "    # Optimizer, loss criterion, and learning rate scheduler\n",
    "    print(\"Defining optimizer, loss criterion and learning rate scheduler\")\n",
    "    optimizer = optim.AdamW(model.parameters(), hparams[\"learning_rate\"])\n",
    "    criterion = nn.CTCLoss(blank = 28).to(device)\n",
    "    scheduler = optim.lr_scheduler.OneCycleLR(optimizer, \n",
    "                                              max_lr = hparams[\"learning_rate\"], \n",
    "                                              steps_per_epoch = len(train_loader),\n",
    "                                              epochs = hparams[\"epochs\"],\n",
    "                                              anneal_strategy = \"linear\")\n",
    "    \n",
    "    # Training the model\n",
    "    print(\"\\nTraining\")\n",
    "    train_stats = {\"Train Losses\": []}\n",
    "    test_stats = {\"Test Losses\": [], \"Test CER\": [], \"Test WER\": []}\n",
    "    for epoch in range(1, epochs+1):\n",
    "        print(\"\\nEpoch\", epoch)\n",
    "        time.sleep(2)\n",
    "        train_loss = train(model, device, train_loader, criterion, optimizer, scheduler)\n",
    "        test_loss, test_cer, test_wer = test(model, device, test_loader, criterion)\n",
    "        train_stats[\"Train Losses\"].append(train_loss)\n",
    "        test_stats[\"Test Losses\"].append(test_loss)\n",
    "        test_stats[\"Test CER\"].append(test_cer)\n",
    "        test_stats[\"Test WER\"].append(test_wer)\n",
    "\n",
    "    return model, train_stats, test_stats"
   ]
  },
  {
   "cell_type": "code",
   "execution_count": 12,
   "metadata": {
    "id": "YIrKaW7_oufG"
   },
   "outputs": [],
   "source": [
    "def plot(train_loss, test_loss, xlabel, ylabel, title, labelpad=12, titlepad=12,\n",
    "         fontdict={\"family\":\"serif\", \"color\":\"darkred\", \"weight\":\"normal\", \"size\":16}, grid=True):\n",
    "\n",
    "    plt.figure(figsize=(8, 6))\n",
    "    plt.xlabel(xlabel, fontdict=fontdict, labelpad=labelpad)\n",
    "    plt.ylabel(ylabel, fontdict=fontdict, labelpad=labelpad)\n",
    "    plt.title(title, fontdict=fontdict, pad=titlepad)\n",
    "    plt.plot(train_loss, color=\"g\", label=\"Training\")\n",
    "    plt.plot(test_loss, color=\"b\", label=\"Validation\")\n",
    "    plt.legend()\n",
    "    if grid:\n",
    "        plt.grid()\n",
    "    plt.show()"
   ]
  },
  {
   "cell_type": "code",
   "execution_count": 13,
   "metadata": {
    "colab": {
     "base_uri": "https://localhost:8080/"
    },
    "id": "d6oMI4SF7Pdo",
    "outputId": "434ab97f-c936-496b-ffa3-9474f92b3f81"
   },
   "outputs": [
    {
     "name": "stdout",
     "output_type": "stream",
     "text": [
      "Downloading datasets\n",
      "Using GPU\n",
      "Loading train data\n",
      "Loading test data\n",
      "Setting up the model\n",
      "Total model parameters = 23704989\n",
      "Defining optimizer, loss criterion and lr scheduler\n",
      "\n",
      "Training\n",
      "\n",
      "Epoch 1\n"
     ]
    },
    {
     "name": "stderr",
     "output_type": "stream",
     "text": [
      "100%|██████████| 3568/3568 [27:27<00:00,  2.17it/s]\n"
     ]
    },
    {
     "name": "stdout",
     "output_type": "stream",
     "text": [
      "Training set - Average loss = 2.5082\n"
     ]
    },
    {
     "name": "stderr",
     "output_type": "stream",
     "text": [
      "100%|██████████| 328/328 [02:18<00:00,  2.37it/s]\n"
     ]
    },
    {
     "name": "stdout",
     "output_type": "stream",
     "text": [
      "Validation set - Average loss = 1.5269, Average CER = 0.4957, Average WER = 0.9882\n",
      "\n",
      "Epoch 2\n"
     ]
    },
    {
     "name": "stderr",
     "output_type": "stream",
     "text": [
      "100%|██████████| 3568/3568 [27:32<00:00,  2.16it/s]\n"
     ]
    },
    {
     "name": "stdout",
     "output_type": "stream",
     "text": [
      "Training set - Average loss = 1.4619\n"
     ]
    },
    {
     "name": "stderr",
     "output_type": "stream",
     "text": [
      "100%|██████████| 328/328 [02:17<00:00,  2.39it/s]\n"
     ]
    },
    {
     "name": "stdout",
     "output_type": "stream",
     "text": [
      "Validation set - Average loss = 1.0712, Average CER = 0.3278, Average WER = 0.8152\n",
      "\n",
      "Epoch 3\n"
     ]
    },
    {
     "name": "stderr",
     "output_type": "stream",
     "text": [
      "100%|██████████| 3568/3568 [27:30<00:00,  2.16it/s]\n"
     ]
    },
    {
     "name": "stdout",
     "output_type": "stream",
     "text": [
      "Training set - Average loss = 1.1932\n"
     ]
    },
    {
     "name": "stderr",
     "output_type": "stream",
     "text": [
      "100%|██████████| 328/328 [02:20<00:00,  2.33it/s]\n"
     ]
    },
    {
     "name": "stdout",
     "output_type": "stream",
     "text": [
      "Validation set - Average loss = 0.9324, Average CER = 0.2839, Average WER = 0.7445\n",
      "\n",
      "Epoch 4\n"
     ]
    },
    {
     "name": "stderr",
     "output_type": "stream",
     "text": [
      "100%|██████████| 3568/3568 [27:29<00:00,  2.16it/s]\n"
     ]
    },
    {
     "name": "stdout",
     "output_type": "stream",
     "text": [
      "Training set - Average loss = 1.0515\n"
     ]
    },
    {
     "name": "stderr",
     "output_type": "stream",
     "text": [
      "100%|██████████| 328/328 [02:21<00:00,  2.32it/s]\n"
     ]
    },
    {
     "name": "stdout",
     "output_type": "stream",
     "text": [
      "Validation set - Average loss = 0.8288, Average CER = 0.2688, Average WER = 0.6770\n",
      "\n",
      "Epoch 5\n"
     ]
    },
    {
     "name": "stderr",
     "output_type": "stream",
     "text": [
      "100%|██████████| 3568/3568 [27:31<00:00,  2.16it/s]\n"
     ]
    },
    {
     "name": "stdout",
     "output_type": "stream",
     "text": [
      "Training set - Average loss = 0.9701\n"
     ]
    },
    {
     "name": "stderr",
     "output_type": "stream",
     "text": [
      "100%|██████████| 328/328 [02:20<00:00,  2.34it/s]\n"
     ]
    },
    {
     "name": "stdout",
     "output_type": "stream",
     "text": [
      "Validation set - Average loss = 0.7408, Average CER = 0.2241, Average WER = 0.6150\n",
      "\n",
      "Epoch 6\n"
     ]
    },
    {
     "name": "stderr",
     "output_type": "stream",
     "text": [
      "100%|██████████| 3568/3568 [27:31<00:00,  2.16it/s]\n"
     ]
    },
    {
     "name": "stdout",
     "output_type": "stream",
     "text": [
      "Training set - Average loss = 0.8819\n"
     ]
    },
    {
     "name": "stderr",
     "output_type": "stream",
     "text": [
      "100%|██████████| 328/328 [02:22<00:00,  2.30it/s]\n"
     ]
    },
    {
     "name": "stdout",
     "output_type": "stream",
     "text": [
      "Validation set - Average loss = 0.6882, Average CER = 0.2088, Average WER = 0.5856\n",
      "\n",
      "Epoch 7\n"
     ]
    },
    {
     "name": "stderr",
     "output_type": "stream",
     "text": [
      "100%|██████████| 3568/3568 [27:30<00:00,  2.16it/s]\n"
     ]
    },
    {
     "name": "stdout",
     "output_type": "stream",
     "text": [
      "Training set - Average loss = 0.8117\n"
     ]
    },
    {
     "name": "stderr",
     "output_type": "stream",
     "text": [
      "100%|██████████| 328/328 [02:22<00:00,  2.30it/s]\n"
     ]
    },
    {
     "name": "stdout",
     "output_type": "stream",
     "text": [
      "Validation set - Average loss = 0.6104, Average CER = 0.1835, Average WER = 0.5338\n",
      "\n",
      "Epoch 8\n"
     ]
    },
    {
     "name": "stderr",
     "output_type": "stream",
     "text": [
      "100%|██████████| 3568/3568 [27:29<00:00,  2.16it/s]\n"
     ]
    },
    {
     "name": "stdout",
     "output_type": "stream",
     "text": [
      "Training set - Average loss = 0.7536\n"
     ]
    },
    {
     "name": "stderr",
     "output_type": "stream",
     "text": [
      "100%|██████████| 328/328 [02:22<00:00,  2.30it/s]\n"
     ]
    },
    {
     "name": "stdout",
     "output_type": "stream",
     "text": [
      "Validation set - Average loss = 0.5820, Average CER = 0.1729, Average WER = 0.5062\n",
      "\n",
      "Epoch 9\n"
     ]
    },
    {
     "name": "stderr",
     "output_type": "stream",
     "text": [
      "100%|██████████| 3568/3568 [27:33<00:00,  2.16it/s]\n"
     ]
    },
    {
     "name": "stdout",
     "output_type": "stream",
     "text": [
      "Training set - Average loss = 0.7132\n"
     ]
    },
    {
     "name": "stderr",
     "output_type": "stream",
     "text": [
      "100%|██████████| 328/328 [02:22<00:00,  2.31it/s]\n"
     ]
    },
    {
     "name": "stdout",
     "output_type": "stream",
     "text": [
      "Validation set - Average loss = 0.5442, Average CER = 0.1620, Average WER = 0.4825\n",
      "\n",
      "Epoch 10\n"
     ]
    },
    {
     "name": "stderr",
     "output_type": "stream",
     "text": [
      "100%|██████████| 3568/3568 [27:33<00:00,  2.16it/s]\n"
     ]
    },
    {
     "name": "stdout",
     "output_type": "stream",
     "text": [
      "Training set - Average loss = 0.6610\n"
     ]
    },
    {
     "name": "stderr",
     "output_type": "stream",
     "text": [
      "100%|██████████| 328/328 [02:17<00:00,  2.39it/s]\n"
     ]
    },
    {
     "name": "stdout",
     "output_type": "stream",
     "text": [
      "Validation set - Average loss = 0.5146, Average CER = 0.1502, Average WER = 0.4517\n",
      "\n",
      "Epoch 11\n"
     ]
    },
    {
     "name": "stderr",
     "output_type": "stream",
     "text": [
      "100%|██████████| 3568/3568 [27:26<00:00,  2.17it/s]\n"
     ]
    },
    {
     "name": "stdout",
     "output_type": "stream",
     "text": [
      "Training set - Average loss = 0.6265\n"
     ]
    },
    {
     "name": "stderr",
     "output_type": "stream",
     "text": [
      "100%|██████████| 328/328 [02:21<00:00,  2.31it/s]\n"
     ]
    },
    {
     "name": "stdout",
     "output_type": "stream",
     "text": [
      "Validation set - Average loss = 0.4982, Average CER = 0.1469, Average WER = 0.4431\n",
      "\n",
      "Epoch 12\n"
     ]
    },
    {
     "name": "stderr",
     "output_type": "stream",
     "text": [
      "100%|██████████| 3568/3568 [27:30<00:00,  2.16it/s]\n"
     ]
    },
    {
     "name": "stdout",
     "output_type": "stream",
     "text": [
      "Training set - Average loss = 0.5941\n"
     ]
    },
    {
     "name": "stderr",
     "output_type": "stream",
     "text": [
      "100%|██████████| 328/328 [02:25<00:00,  2.26it/s]\n"
     ]
    },
    {
     "name": "stdout",
     "output_type": "stream",
     "text": [
      "Validation set - Average loss = 0.4854, Average CER = 0.1417, Average WER = 0.4279\n",
      "\n",
      "Epoch 13\n"
     ]
    },
    {
     "name": "stderr",
     "output_type": "stream",
     "text": [
      "100%|██████████| 3568/3568 [27:31<00:00,  2.16it/s]\n"
     ]
    },
    {
     "name": "stdout",
     "output_type": "stream",
     "text": [
      "Training set - Average loss = 0.5633\n"
     ]
    },
    {
     "name": "stderr",
     "output_type": "stream",
     "text": [
      "100%|██████████| 328/328 [02:20<00:00,  2.34it/s]\n"
     ]
    },
    {
     "name": "stdout",
     "output_type": "stream",
     "text": [
      "Validation set - Average loss = 0.4703, Average CER = 0.1352, Average WER = 0.4118\n",
      "\n",
      "Epoch 14\n"
     ]
    },
    {
     "name": "stderr",
     "output_type": "stream",
     "text": [
      "100%|██████████| 3568/3568 [27:31<00:00,  2.16it/s]\n"
     ]
    },
    {
     "name": "stdout",
     "output_type": "stream",
     "text": [
      "Training set - Average loss = 0.5430\n"
     ]
    },
    {
     "name": "stderr",
     "output_type": "stream",
     "text": [
      "100%|██████████| 328/328 [02:20<00:00,  2.34it/s]\n"
     ]
    },
    {
     "name": "stdout",
     "output_type": "stream",
     "text": [
      "Validation set - Average loss = 0.4588, Average CER = 0.1330, Average WER = 0.4062\n",
      "\n",
      "Epoch 15\n"
     ]
    },
    {
     "name": "stderr",
     "output_type": "stream",
     "text": [
      "100%|██████████| 3568/3568 [27:31<00:00,  2.16it/s]\n"
     ]
    },
    {
     "name": "stdout",
     "output_type": "stream",
     "text": [
      "Training set - Average loss = 0.5216\n"
     ]
    },
    {
     "name": "stderr",
     "output_type": "stream",
     "text": [
      "100%|██████████| 328/328 [02:20<00:00,  2.33it/s]\n"
     ]
    },
    {
     "name": "stdout",
     "output_type": "stream",
     "text": [
      "Validation set - Average loss = 0.4554, Average CER = 0.1301, Average WER = 0.3981\n"
     ]
    }
   ],
   "source": [
    "learning_rate = 5e-4\n",
    "batch_size = 8\n",
    "epochs = 15\n",
    "libri_train_set = \"train-clean-100\"\n",
    "libri_test_set = \"test-clean\"\n",
    "\n",
    "model, train_stats, test_stats = main(learning_rate = learning_rate, \n",
    "                                      batch_size = batch_size, \n",
    "                                      epochs = epochs, \n",
    "                                      train_url = libri_train_set, \n",
    "                                      test_url = libri_test_set)"
   ]
  },
  {
   "cell_type": "code",
   "execution_count": 14,
   "metadata": {
    "id": "54-eYnWSsTmO"
   },
   "outputs": [],
   "source": [
    "torch.save(model.state_dict(), \"model_state_dict.pt\")\n",
    "torch.save(model, \"model.pt\")"
   ]
  },
  {
   "cell_type": "code",
   "execution_count": 15,
   "metadata": {
    "colab": {
     "base_uri": "https://localhost:8080/",
     "height": 428
    },
    "id": "yCRzYhySzlUN",
    "outputId": "7dc968b8-3bd0-4afe-de9f-6cf83a015282"
   },
   "outputs": [
    {
     "data": {
      "image/png": "[encoded data removed]",
      "text/plain": [
       "<Figure size 576x432 with 1 Axes>"
      ]
     },
     "metadata": {
      "needs_background": "light",
      "tags": []
     },
     "output_type": "display_data"
    }
   ],
   "source": [
    "plot(train_loss = train_stats[\"Train Losses\"], \n",
    "     test_loss = test_stats[\"Test Losses\"], \n",
    "     xlabel = \"Epoch\", \n",
    "     ylabel = \"Loss\",\n",
    "     title = \"Training Loss and Test Loss\")"
   ]
  }
 ],
 "metadata": {
  "accelerator": "GPU",
  "colab": {
   "collapsed_sections": [],
   "name": "Speech Recognition.ipynb",
   "provenance": []
  },
  "kernelspec": {
   "display_name": "Python 3.8.2 64-bit",
   "language": "python",
   "name": "python38264bitfd92962200d74e8ba4e1089743d69310"
  },
  "language_info": {
   "codemirror_mode": {
    "name": "ipython",
    "version": 3
   },
   "file_extension": ".py",
   "mimetype": "text/x-python",
   "name": "python",
   "nbconvert_exporter": "python",
   "pygments_lexer": "ipython3",
   "version": "3.8.2"
  }
 },
 "nbformat": 4,
 "nbformat_minor": 1
}
